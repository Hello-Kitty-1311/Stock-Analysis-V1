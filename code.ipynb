{
  "nbformat": 4,
  "nbformat_minor": 0,
  "metadata": {
    "colab": {
      "provenance": []
    },
    "kernelspec": {
      "name": "python3",
      "display_name": "Python 3"
    },
    "language_info": {
      "name": "python"
    }
  },
  "cells": [
    {
      "cell_type": "markdown",
      "source": [
        "# Stock Market Analysis\n",
        "\n",
        "This notebook implementas a list of all freely available models to analysis live stock data and to predict to the price of a particular stock.\n",
        "\n",
        "## This notebook consist of the following Models\n",
        "\n",
        "* ### Traditional Analysis\n",
        " 1. Fundamental Analysis\n",
        " 2. Technical Analysis\n",
        "\n",
        "* ### Machine Learning Models\n",
        " 1. Linear Regression\n",
        " 2. Logistic Regression\n",
        " 3. Random Forest\n",
        " 4. Support Vector Machine (SVM)\n",
        " 5. XGBoost\n",
        " 6. LightGBM\n",
        "\n",
        "* ### Deep Learning Models\n",
        " 1. Artificial Neural Networks (ANN)\n",
        " 2. Recurrent Neural Networks (RNN)\n",
        " 3. Long Short-Term Memory (LSTM)\n",
        " 4. Gated Recurrent Units (GRU)\n",
        " 5. Transformer Models\n",
        "\n",
        "* ### Time Series Forecasting\n",
        " 1. Autoregressive Conditional Heteroskedasticity(ARCH)\n",
        " 2. Generalized Autoregressive Conditional Heteroskedasticity(GARCH)\n",
        " 3. Autoregressive Integrated Moving Average(ARIMA)\n",
        " 4. Seasonal Autoregressive Integrated Moving Average(SARIMA)\n",
        " 5. Prophet model\n",
        " 6. Kalman Filter\n",
        "\n",
        "* ### Reinforcement Learning Models\n",
        " 1. Deep Q-Network (DQN)\n",
        " 2. Proximal Policy Optimization (PPO)\n",
        " 3. A2C (Advantage Actor-Critic)\n",
        " 4. Stacking (Ensemble of ML models)\n",
        " 5. CNN + LSTM model\n",
        "\n",
        "## More Models will be added in the future."
      ],
      "metadata": {
        "id": "iGQL3dRQzZOf"
      }
    },
    {
      "cell_type": "markdown",
      "source": [
        "# Installing Dependencies"
      ],
      "metadata": {
        "id": "5dfiI4kyGb5D"
      }
    },
    {
      "cell_type": "code",
      "execution_count": null,
      "metadata": {
        "id": "kevfmCO1zUNZ"
      },
      "outputs": [],
      "source": [
        "!pip install yfinance pandas numpy matplotlib seaborn statsmodels arch scikit-learn imbalanced-learn tensorflow torch alpha-vantage pykalman gym xgboost lightgbm prophet --quiet"
      ]
    },
    {
      "cell_type": "markdown",
      "source": [
        "# Importing Libraries"
      ],
      "metadata": {
        "id": "-1t8ce2kGiiz"
      }
    },
    {
      "cell_type": "code",
      "source": [
        "import yfinance as yf\n",
        "import pandas as pd\n",
        "import numpy as np\n",
        "import matplotlib.pyplot as plt\n",
        "import seaborn as sns\n",
        "\n",
        "# Statistical and time series models\n",
        "from statsmodels.tsa.arima.model import ARIMA\n",
        "from statsmodels.tsa.seasonal import seasonal_decompose\n",
        "from statsmodels.tsa.stattools import adfuller\n",
        "from statsmodels.tsa.statespace.sarimax import SARIMAX\n",
        "from arch import arch_model\n",
        "\n",
        "# Machine Learning models and utilities\n",
        "from sklearn.model_selection import train_test_split, GridSearchCV\n",
        "from sklearn.preprocessing import MinMaxScaler, StandardScaler\n",
        "from sklearn.ensemble import RandomForestRegressor, RandomForestClassifier, StackingRegressor\n",
        "from sklearn.linear_model import LinearRegression, Ridge, LogisticRegression\n",
        "from sklearn.tree import DecisionTreeRegressor\n",
        "from sklearn.svm import SVR\n",
        "from sklearn.metrics import mean_absolute_error, mean_squared_error, r2_score, accuracy_score, classification_report, confusion_matrix\n",
        "from imblearn.over_sampling import SMOTE\n",
        "\n",
        "# Deep Learning frameworks\n",
        "import tensorflow as tf\n",
        "from tensorflow import keras\n",
        "from tensorflow.keras.models import Sequential, Model\n",
        "from tensorflow.keras.layers import Dense, LSTM, GRU, Dropout, Conv1D, MaxPooling1D, Flatten, Input\n",
        "from tensorflow.keras.optimizers import Adam\n",
        "\n",
        "# PyTorch and reinforcement learning\n",
        "import torch\n",
        "import torch.nn as nn\n",
        "import torch.optim as optim\n",
        "import torch.nn.functional as F\n",
        "from torch.utils.data import DataLoader, TensorDataset\n",
        "from torch.distributions import Categorical\n",
        "from collections import deque\n",
        "\n",
        "# Additional libraries\n",
        "from alpha_vantage.fundamentaldata import FundamentalData\n",
        "import time\n",
        "from pykalman import KalmanFilter\n",
        "import gym\n",
        "import xgboost as xgb\n",
        "import lightgbm as lgb\n",
        "from prophet import Prophet\n",
        "import random\n",
        "import re"
      ],
      "metadata": {
        "id": "uz92UpNwGnQM"
      },
      "execution_count": null,
      "outputs": []
    },
    {
      "cell_type": "markdown",
      "source": [
        "# Receive Stock Ticker from User and gather live stock data using online API"
      ],
      "metadata": {
        "id": "kHiLIhfFGlnU"
      }
    },
    {
      "cell_type": "code",
      "source": [
        "def get_valid_ticker():\n",
        "    \"\"\"Prompts user for a valid stock ticker and verifies it using Yahoo Finance.\"\"\"\n",
        "    while True:\n",
        "        stock = input(\"Enter a valid stock ticker (e.g., AAPL, TSLA, MSFT): \").upper()\n",
        "        try:\n",
        "            test = yf.Ticker(stock)\n",
        "            if test.history(period=\"1d\").empty:\n",
        "                print(\"Invalid ticker. Please try again.\")\n",
        "            else:\n",
        "                return stock\n",
        "        except Exception as e:\n",
        "            print(f\"Error validating ticker: {e}\")\n",
        "            print(\"Invalid input. Please try again.\")\n",
        "\n",
        "# Get a valid stock ticker from the user\n",
        "stock_ticker = get_valid_ticker()\n",
        "\n",
        "# Fetch stock data using Yahoo Finance\n",
        "ticker = yf.Ticker(stock_ticker)\n",
        "history = ticker.history(period=\"10y\")\n",
        "\n",
        "# Display basic stock info\n",
        "try:\n",
        "    info = ticker.info\n",
        "    print(f\"\\nStock Name: {info.get('longName', 'N/A')}\")\n",
        "    print(f\"Sector: {info.get('sector', 'N/A')}\")\n",
        "    print(f\"Market Cap: {info.get('marketCap', 'N/A')}\")\n",
        "except Exception as e:\n",
        "    print(f\"Error retrieving stock info: {e}\")"
      ],
      "metadata": {
        "id": "CDdJ-D9RGs4E"
      },
      "execution_count": null,
      "outputs": []
    },
    {
      "cell_type": "markdown",
      "source": [
        "# Fundamental Analysis"
      ],
      "metadata": {
        "id": "FTtzSe_HG46-"
      }
    },
    {
      "cell_type": "code",
      "source": [
        "#TODO"
      ],
      "metadata": {
        "id": "jhIlhplTHDMQ"
      },
      "execution_count": null,
      "outputs": []
    },
    {
      "cell_type": "markdown",
      "source": [
        "# Technical Analysis"
      ],
      "metadata": {
        "id": "ZSUbwlngHF03"
      }
    },
    {
      "cell_type": "code",
      "source": [
        "#TODO"
      ],
      "metadata": {
        "id": "3TlU7v29HKAH"
      },
      "execution_count": null,
      "outputs": []
    },
    {
      "cell_type": "markdown",
      "source": [
        "# Linear Regression"
      ],
      "metadata": {
        "id": "4GLBD2jTHKPv"
      }
    },
    {
      "cell_type": "code",
      "source": [
        "#TODO"
      ],
      "metadata": {
        "id": "cU0e5ar_HXUB"
      },
      "execution_count": null,
      "outputs": []
    },
    {
      "cell_type": "markdown",
      "source": [
        "# Logistic Regression Model"
      ],
      "metadata": {
        "id": "rHyyFX-AHX4Q"
      }
    },
    {
      "cell_type": "code",
      "source": [
        "#TODO"
      ],
      "metadata": {
        "id": "ys8b1ndpHazJ"
      },
      "execution_count": null,
      "outputs": []
    },
    {
      "cell_type": "markdown",
      "source": [
        "# Random Forest Regressor & Classifier"
      ],
      "metadata": {
        "id": "DYJiqeaOHbKp"
      }
    },
    {
      "cell_type": "code",
      "source": [
        "#TODO"
      ],
      "metadata": {
        "id": "PPb1LijsHfqa"
      },
      "execution_count": null,
      "outputs": []
    },
    {
      "cell_type": "markdown",
      "source": [
        "# Support Vector Machine (SVM)"
      ],
      "metadata": {
        "id": "sSYLAfWlHf2i"
      }
    },
    {
      "cell_type": "code",
      "source": [
        "#TODO"
      ],
      "metadata": {
        "id": "iSaCsuxwHiAS"
      },
      "execution_count": null,
      "outputs": []
    },
    {
      "cell_type": "markdown",
      "source": [
        "# XGBoost & LightGBM"
      ],
      "metadata": {
        "id": "KpBO76fyHiQq"
      }
    },
    {
      "cell_type": "code",
      "source": [
        "#TODO"
      ],
      "metadata": {
        "id": "Vle6e600Hl9a"
      },
      "execution_count": null,
      "outputs": []
    },
    {
      "cell_type": "markdown",
      "source": [
        "# Artificial Neural Networks (ANN)"
      ],
      "metadata": {
        "id": "w7O2CXDXHmMq"
      }
    },
    {
      "cell_type": "code",
      "source": [
        "#TODO"
      ],
      "metadata": {
        "id": "t-u9AM2lH1yM"
      },
      "execution_count": null,
      "outputs": []
    },
    {
      "cell_type": "markdown",
      "source": [
        "# Recurrent Neural Networks (RNN)"
      ],
      "metadata": {
        "id": "vaz9waPLH2Ac"
      }
    },
    {
      "cell_type": "code",
      "source": [
        "#TODO"
      ],
      "metadata": {
        "id": "BG9941nwH5fc"
      },
      "execution_count": null,
      "outputs": []
    },
    {
      "cell_type": "markdown",
      "source": [
        "# Long Short-Term Memory (LSTM)"
      ],
      "metadata": {
        "id": "kWo0he93H5uE"
      }
    },
    {
      "cell_type": "code",
      "source": [
        "#TODO"
      ],
      "metadata": {
        "id": "ZV4WFAbFH8Kd"
      },
      "execution_count": null,
      "outputs": []
    },
    {
      "cell_type": "markdown",
      "source": [
        "# Gated Recurrent Units (GRU)"
      ],
      "metadata": {
        "id": "AcShZAQEH8Wc"
      }
    },
    {
      "cell_type": "code",
      "source": [
        "#TODO"
      ],
      "metadata": {
        "id": "LKeiaXOrIAPd"
      },
      "execution_count": null,
      "outputs": []
    },
    {
      "cell_type": "markdown",
      "source": [
        "# Transformer Models"
      ],
      "metadata": {
        "id": "gGoMhbVHIAcV"
      }
    },
    {
      "cell_type": "code",
      "source": [
        "#TODO"
      ],
      "metadata": {
        "id": "hB78QJagIEGe"
      },
      "execution_count": null,
      "outputs": []
    },
    {
      "cell_type": "markdown",
      "source": [
        "# ARIMA and ARCH/GARCH"
      ],
      "metadata": {
        "id": "XvXBZtqUIEqd"
      }
    },
    {
      "cell_type": "code",
      "source": [
        "#TODO"
      ],
      "metadata": {
        "id": "CmIPnoV8IQQP"
      },
      "execution_count": null,
      "outputs": []
    },
    {
      "cell_type": "markdown",
      "source": [
        "# SARIMA Model"
      ],
      "metadata": {
        "id": "cp3ZhVLKIQ1H"
      }
    },
    {
      "cell_type": "code",
      "source": [
        "#TODO"
      ],
      "metadata": {
        "id": "VJSJy1UoIUTH"
      },
      "execution_count": null,
      "outputs": []
    },
    {
      "cell_type": "markdown",
      "source": [
        "# Prophet model"
      ],
      "metadata": {
        "id": "LHJreWbgIUhn"
      }
    },
    {
      "cell_type": "code",
      "source": [
        "#TODO"
      ],
      "metadata": {
        "id": "gxapvoTCIYtw"
      },
      "execution_count": null,
      "outputs": []
    },
    {
      "cell_type": "markdown",
      "source": [
        "# Kalman Filter"
      ],
      "metadata": {
        "id": "Pdg6rEQVIY8X"
      }
    },
    {
      "cell_type": "code",
      "source": [
        "#TODO"
      ],
      "metadata": {
        "id": "65mpG1d6IdDQ"
      },
      "execution_count": null,
      "outputs": []
    },
    {
      "cell_type": "markdown",
      "source": [
        "# Deep Q-Network (DQN)"
      ],
      "metadata": {
        "id": "ZRQFGqLmIdPA"
      }
    },
    {
      "cell_type": "code",
      "source": [
        "#TODO"
      ],
      "metadata": {
        "id": "X63n8djSIfXQ"
      },
      "execution_count": null,
      "outputs": []
    },
    {
      "cell_type": "markdown",
      "source": [
        "# Proximal Policy Optimization (PPO)"
      ],
      "metadata": {
        "id": "7B8NU_yOIfiQ"
      }
    },
    {
      "cell_type": "code",
      "source": [
        "#TODO"
      ],
      "metadata": {
        "id": "rHzPtbcOInKZ"
      },
      "execution_count": null,
      "outputs": []
    },
    {
      "cell_type": "markdown",
      "source": [
        "# A2C (Advantage Actor-Critic)"
      ],
      "metadata": {
        "id": "umsbiEVPIndB"
      }
    },
    {
      "cell_type": "code",
      "source": [
        "#TODO"
      ],
      "metadata": {
        "id": "7COB9oWQIqMJ"
      },
      "execution_count": null,
      "outputs": []
    },
    {
      "cell_type": "markdown",
      "source": [
        "# Stacking (Ensemble of ML models)"
      ],
      "metadata": {
        "id": "-SGsacxKIqfR"
      }
    },
    {
      "cell_type": "code",
      "source": [
        "#TODO"
      ],
      "metadata": {
        "id": "1al3PrdAIs9S"
      },
      "execution_count": null,
      "outputs": []
    },
    {
      "cell_type": "markdown",
      "source": [
        "# CNN + LSTM model"
      ],
      "metadata": {
        "id": "lKp0LfBJItLh"
      }
    },
    {
      "cell_type": "code",
      "source": [
        "#TODO"
      ],
      "metadata": {
        "id": "_ciGaok7Ivx6"
      },
      "execution_count": null,
      "outputs": []
    },
    {
      "cell_type": "markdown",
      "source": [
        "# Final Output"
      ],
      "metadata": {
        "id": "Ky1z2IoGIwES"
      }
    },
    {
      "cell_type": "code",
      "source": [
        "#TODO"
      ],
      "metadata": {
        "id": "jF8VpoWyIyuz"
      },
      "execution_count": null,
      "outputs": []
    }
  ]
}