{
  "nbformat": 4,
  "nbformat_minor": 0,
  "metadata": {
    "colab": {
      "provenance": []
    },
    "kernelspec": {
      "name": "python3",
      "display_name": "Python 3"
    },
    "language_info": {
      "name": "python"
    }
  },
  "cells": [
    {
      "cell_type": "markdown",
      "source": [
        "# Stock Market Analysis\n",
        "\n",
        "This notebook implementas a list of all freely available models to analysis live stock data and to predict to the price of a particular stock.\n",
        "\n",
        "## This notebook consist of the following Models\n",
        "\n",
        "* ### Traditional Analysis\n",
        " 1. Fundamental Analysis\n",
        " 2. Technical Analysis\n",
        "\n",
        "* ### Machine Learning Models\n",
        " 1. Linear Regression\n",
        " 2. Logistic Regression\n",
        " 3. Random Forest\n",
        " 4. Support Vector Machine (SVM)\n",
        " 5. XGBoost\n",
        " 6. LightGBM\n",
        "\n",
        "* ### Deep Learning Models\n",
        " 1. Artificial Neural Networks (ANN)\n",
        " 2. Recurrent Neural Networks (RNN)\n",
        " 3. Long Short-Term Memory (LSTM)\n",
        " 4. Gated Recurrent Units (GRU)\n",
        " 5. Transformer Models\n",
        "\n",
        "* ### Time Series Forecasting\n",
        " 1. Autoregressive Conditional Heteroskedasticity(ARCH)\n",
        " 2. Generalized Autoregressive Conditional Heteroskedasticity(GARCH)\n",
        " 3. Autoregressive Integrated Moving Average(ARIMA)\n",
        " 4. Seasonal Autoregressive Integrated Moving Average(SARIMA)\n",
        " 5. Prophet model\n",
        " 6. Kalman Filter\n",
        "\n",
        "* ### Reinforcement Learning Models\n",
        " 1. Deep Q-Network (DQN)\n",
        " 2. Proximal Policy Optimization (PPO)\n",
        " 3. A2C (Advantage Actor-Critic)\n",
        " 4. Stacking (Ensemble of ML models)\n",
        " 5. CNN + LSTM model\n",
        "\n",
        "## More Models will be added in the future."
      ],
      "metadata": {
        "id": "iGQL3dRQzZOf"
      }
    },
    {
      "cell_type": "markdown",
      "source": [
        "# Installing Dependencies"
      ],
      "metadata": {
        "id": "5dfiI4kyGb5D"
      }
    },
    {
      "cell_type": "code",
      "execution_count": 1,
      "metadata": {
        "id": "kevfmCO1zUNZ",
        "colab": {
          "base_uri": "https://localhost:8080/"
        },
        "outputId": "baf43765-07d3-4424-f2d0-c8b614d89e64"
      },
      "outputs": [
        {
          "output_type": "stream",
          "name": "stdout",
          "text": [
            "\u001b[2K   \u001b[90m━━━━━━━━━━━━━━━━━━━━━━━━━━━━━━━━━━━━━━━━\u001b[0m \u001b[32m985.3/985.3 kB\u001b[0m \u001b[31m15.2 MB/s\u001b[0m eta \u001b[36m0:00:00\u001b[0m\n",
            "\u001b[2K   \u001b[90m━━━━━━━━━━━━━━━━━━━━━━━━━━━━━━━━━━━━━━━━\u001b[0m \u001b[32m363.4/363.4 MB\u001b[0m \u001b[31m3.6 MB/s\u001b[0m eta \u001b[36m0:00:00\u001b[0m\n",
            "\u001b[2K   \u001b[90m━━━━━━━━━━━━━━━━━━━━━━━━━━━━━━━━━━━━━━━━\u001b[0m \u001b[32m13.8/13.8 MB\u001b[0m \u001b[31m28.1 MB/s\u001b[0m eta \u001b[36m0:00:00\u001b[0m\n",
            "\u001b[2K   \u001b[90m━━━━━━━━━━━━━━━━━━━━━━━━━━━━━━━━━━━━━━━━\u001b[0m \u001b[32m24.6/24.6 MB\u001b[0m \u001b[31m53.1 MB/s\u001b[0m eta \u001b[36m0:00:00\u001b[0m\n",
            "\u001b[2K   \u001b[90m━━━━━━━━━━━━━━━━━━━━━━━━━━━━━━━━━━━━━━━━\u001b[0m \u001b[32m883.7/883.7 kB\u001b[0m \u001b[31m36.6 MB/s\u001b[0m eta \u001b[36m0:00:00\u001b[0m\n",
            "\u001b[2K   \u001b[90m━━━━━━━━━━━━━━━━━━━━━━━━━━━━━━━━━━━━━━━━\u001b[0m \u001b[32m664.8/664.8 MB\u001b[0m \u001b[31m2.8 MB/s\u001b[0m eta \u001b[36m0:00:00\u001b[0m\n",
            "\u001b[2K   \u001b[90m━━━━━━━━━━━━━━━━━━━━━━━━━━━━━━━━━━━━━━━━\u001b[0m \u001b[32m211.5/211.5 MB\u001b[0m \u001b[31m5.7 MB/s\u001b[0m eta \u001b[36m0:00:00\u001b[0m\n",
            "\u001b[2K   \u001b[90m━━━━━━━━━━━━━━━━━━━━━━━━━━━━━━━━━━━━━━━━\u001b[0m \u001b[32m56.3/56.3 MB\u001b[0m \u001b[31m12.8 MB/s\u001b[0m eta \u001b[36m0:00:00\u001b[0m\n",
            "\u001b[2K   \u001b[90m━━━━━━━━━━━━━━━━━━━━━━━━━━━━━━━━━━━━━━━━\u001b[0m \u001b[32m127.9/127.9 MB\u001b[0m \u001b[31m7.5 MB/s\u001b[0m eta \u001b[36m0:00:00\u001b[0m\n",
            "\u001b[2K   \u001b[90m━━━━━━━━━━━━━━━━━━━━━━━━━━━━━━━━━━━━━━━━\u001b[0m \u001b[32m207.5/207.5 MB\u001b[0m \u001b[31m5.7 MB/s\u001b[0m eta \u001b[36m0:00:00\u001b[0m\n",
            "\u001b[2K   \u001b[90m━━━━━━━━━━━━━━━━━━━━━━━━━━━━━━━━━━━━━━━━\u001b[0m \u001b[32m21.1/21.1 MB\u001b[0m \u001b[31m59.6 MB/s\u001b[0m eta \u001b[36m0:00:00\u001b[0m\n",
            "\u001b[2K   \u001b[90m━━━━━━━━━━━━━━━━━━━━━━━━━━━━━━━━━━━━━━━━\u001b[0m \u001b[32m248.5/248.5 kB\u001b[0m \u001b[31m11.1 MB/s\u001b[0m eta \u001b[36m0:00:00\u001b[0m\n",
            "\u001b[2K   \u001b[90m━━━━━━━━━━━━━━━━━━━━━━━━━━━━━━━━━━━━━━━━\u001b[0m \u001b[32m145.5/145.5 kB\u001b[0m \u001b[31m8.6 MB/s\u001b[0m eta \u001b[36m0:00:00\u001b[0m\n",
            "\u001b[?25h"
          ]
        }
      ],
      "source": [
        "!pip install yfinance pandas numpy matplotlib seaborn statsmodels arch scikit-learn imbalanced-learn tensorflow torch alpha-vantage pykalman gym xgboost lightgbm prophet --quiet"
      ]
    },
    {
      "cell_type": "markdown",
      "source": [
        "# Importing Libraries"
      ],
      "metadata": {
        "id": "-1t8ce2kGiiz"
      }
    },
    {
      "cell_type": "code",
      "source": [
        "import yfinance as yf\n",
        "import pandas as pd\n",
        "import numpy as np\n",
        "import matplotlib.pyplot as plt\n",
        "import seaborn as sns\n",
        "\n",
        "# Statistical and time series models\n",
        "from statsmodels.tsa.arima.model import ARIMA\n",
        "from statsmodels.tsa.seasonal import seasonal_decompose\n",
        "from statsmodels.tsa.stattools import adfuller\n",
        "from statsmodels.tsa.statespace.sarimax import SARIMAX\n",
        "from arch import arch_model\n",
        "\n",
        "# Machine Learning models and utilities\n",
        "from sklearn.model_selection import train_test_split, GridSearchCV\n",
        "from sklearn.preprocessing import MinMaxScaler, StandardScaler\n",
        "from sklearn.ensemble import RandomForestRegressor, RandomForestClassifier, StackingRegressor\n",
        "from sklearn.linear_model import LinearRegression, Ridge, LogisticRegression\n",
        "from sklearn.tree import DecisionTreeRegressor\n",
        "from sklearn.svm import SVR\n",
        "from sklearn.metrics import mean_absolute_error, mean_squared_error, r2_score, accuracy_score, classification_report, confusion_matrix\n",
        "from imblearn.over_sampling import SMOTE\n",
        "\n",
        "# Deep Learning frameworks\n",
        "import tensorflow as tf\n",
        "from tensorflow import keras\n",
        "from tensorflow.keras.models import Sequential, Model\n",
        "from tensorflow.keras.layers import Dense, LSTM, GRU, Dropout, Conv1D, MaxPooling1D, Flatten, Input\n",
        "from tensorflow.keras.optimizers import Adam\n",
        "\n",
        "# PyTorch and reinforcement learning\n",
        "import torch\n",
        "import torch.nn as nn\n",
        "import torch.optim as optim\n",
        "import torch.nn.functional as F\n",
        "from torch.utils.data import DataLoader, TensorDataset\n",
        "from torch.distributions import Categorical\n",
        "from collections import deque\n",
        "\n",
        "# Additional libraries\n",
        "from alpha_vantage.fundamentaldata import FundamentalData\n",
        "import time\n",
        "from pykalman import KalmanFilter\n",
        "import gym\n",
        "import xgboost as xgb\n",
        "import lightgbm as lgb\n",
        "from prophet import Prophet\n",
        "import random\n",
        "import re"
      ],
      "metadata": {
        "id": "uz92UpNwGnQM"
      },
      "execution_count": 2,
      "outputs": []
    },
    {
      "cell_type": "markdown",
      "source": [
        "# Receive Stock Ticker from User and gather live stock data using online API"
      ],
      "metadata": {
        "id": "kHiLIhfFGlnU"
      }
    },
    {
      "cell_type": "code",
      "source": [
        "def get_valid_ticker():\n",
        "    \"\"\"Prompts user for a valid stock ticker and verifies it using Yahoo Finance.\"\"\"\n",
        "    while True:\n",
        "        stock = input(\"Enter a valid stock ticker (e.g., AAPL, TSLA, MSFT): \").upper()\n",
        "        try:\n",
        "            test = yf.Ticker(stock)\n",
        "            if test.history(period=\"1d\").empty:\n",
        "                print(\"Invalid ticker. Please try again.\")\n",
        "            else:\n",
        "                return stock\n",
        "        except Exception as e:\n",
        "            print(f\"Error validating ticker: {e}\")\n",
        "            print(\"Invalid input. Please try again.\")\n",
        "\n",
        "# Get a valid stock ticker from the user\n",
        "stock_ticker = get_valid_ticker()\n",
        "\n",
        "# Fetch stock data using Yahoo Finance\n",
        "ticker = yf.Ticker(stock_ticker)\n",
        "history = ticker.history(period=\"10y\")\n",
        "\n",
        "# Display basic stock info\n",
        "try:\n",
        "    info = ticker.info\n",
        "    print(f\"\\nStock Name: {info.get('longName', 'N/A')}\")\n",
        "    print(f\"Sector: {info.get('sector', 'N/A')}\")\n",
        "    print(f\"Market Cap: {info.get('marketCap', 'N/A')}\")\n",
        "except Exception as e:\n",
        "    print(f\"Error retrieving stock info: {e}\")"
      ],
      "metadata": {
        "colab": {
          "base_uri": "https://localhost:8080/"
        },
        "id": "CDdJ-D9RGs4E",
        "outputId": "e299f9f4-ce72-446e-d4da-2300e833e16f"
      },
      "execution_count": 3,
      "outputs": [
        {
          "output_type": "stream",
          "name": "stdout",
          "text": [
            "Enter a valid stock ticker (e.g., AAPL, TSLA, MSFT): goog\n",
            "\n",
            "Stock Name: Alphabet Inc.\n",
            "Sector: Communication Services\n",
            "Market Cap: 2075577286656\n"
          ]
        }
      ]
    },
    {
      "cell_type": "markdown",
      "source": [
        "# Fundamental Analysis"
      ],
      "metadata": {
        "id": "FTtzSe_HG46-"
      }
    },
    {
      "cell_type": "code",
      "source": [
        "# Fundamental Analysis\n",
        "print(f\"\\nFundamental Analysis of {stock_ticker} :\\n\")\n",
        "fundamentals = {}\n",
        "\n",
        "if 'marketCap' in info:\n",
        "    fundamentals[\"Market Cap\"] = info['marketCap']\n",
        "if 'trailingPE' in info:\n",
        "    fundamentals[\"P/E Ratio\"] = info['trailingPE']\n",
        "if 'priceToBook' in info:\n",
        "    fundamentals[\"P/B Ratio\"] = info['priceToBook']\n",
        "if 'dividendYield' in info:\n",
        "    fundamentals[\"Dividend Yield\"] = info['dividendYield']\n",
        "if 'trailingEps' in info:\n",
        "    fundamentals[\"Trailing EPS\"] = info['trailingEps']\n",
        "if 'forwardPE' in info:\n",
        "    fundamentals[\"Forward P/E Ratio\"] = info['forwardPE']\n",
        "if 'trailingAnnualDividendYield' in info:\n",
        "    fundamentals[\"Trailing Dividend Yield\"] = info['trailingAnnualDividendYield']\n",
        "if 'trailingAnnualDividendRate' in info:\n",
        "    fundamentals[\"Trailing Dividend Rate\"] = info['trailingAnnualDividendRate']\n",
        "if 'beta' in info:\n",
        "    fundamentals[\"Beta\"] = info['beta']\n",
        "if 'trailingPegRatio' in info:\n",
        "    fundamentals[\"Trailing PEG Ratio\"] = info['trailingPegRatio']\n",
        "if 'forwardEps' in info:\n",
        "    fundamentals[\"Forward EPS\"] = info['forwardEps']\n",
        "\n",
        "# Print fundamental data\n",
        "for key, value in fundamentals.items():\n",
        "    print(f\"{key}: {value}\")\n",
        "\n",
        "# Buy/Sell Decision Logic\n",
        "print(f\"\\nBuy/Sell Recommendation for {stock_ticker} :\\n\")\n",
        "\n",
        "decision = \"HOLD\"  # Default decision\n",
        "\n",
        "if \"P/E Ratio\" in fundamentals and fundamentals[\"P/E Ratio\"] is not None:\n",
        "    pe = fundamentals[\"P/E Ratio\"]\n",
        "    if pe < 15:\n",
        "        decision = \"BUY (Undervalued)\"\n",
        "    elif pe > 30:\n",
        "        decision = \"SELL (Overvalued)\"\n",
        "\n",
        "if \"P/B Ratio\" in fundamentals and fundamentals[\"P/B Ratio\"] is not None:\n",
        "    pb = fundamentals[\"P/B Ratio\"]\n",
        "    if pb < 1:\n",
        "        decision = \"BUY (Undervalued based on assets)\"\n",
        "    elif pb > 3:\n",
        "        decision = \"SELL (Overvalued based on assets)\"\n",
        "\n",
        "if \"Beta\" in fundamentals and fundamentals[\"Beta\"] is not None:\n",
        "    beta = fundamentals[\"Beta\"]\n",
        "    if beta > 1.5:\n",
        "        print(f\"{stock_ticker} is a high-volatility stock (Risky).\")\n",
        "    elif beta < 1:\n",
        "        print(f\"{stock_ticker} is a low-volatility stock (Stable).\")\n",
        "\n",
        "if \"Dividend Yield\" in fundamentals and fundamentals[\"Dividend Yield\"] is not None:\n",
        "    div_yield = fundamentals[\"Dividend Yield\"]\n",
        "    if div_yield > 0.03:\n",
        "        print(f\"{stock_ticker} is a good dividend-paying stock.\")\n",
        "\n",
        "print(f\"\\nFinal Recommendation for {stock_ticker}: {decision}\\n\")\n",
        "fundamental_analysis = decision"
      ],
      "metadata": {
        "colab": {
          "base_uri": "https://localhost:8080/"
        },
        "id": "jhIlhplTHDMQ",
        "outputId": "3135e9cc-028a-4c1e-aa21-c19289dcd840"
      },
      "execution_count": 4,
      "outputs": [
        {
          "output_type": "stream",
          "name": "stdout",
          "text": [
            "\n",
            "Fundamental Analysis of GOOG :\n",
            "\n",
            "Market Cap: 2075577286656\n",
            "P/E Ratio: 19.445929\n",
            "P/B Ratio: 6.14082\n",
            "Dividend Yield: 0.48\n",
            "Trailing EPS: 8.97\n",
            "Forward P/E Ratio: 19.489386\n",
            "Trailing Dividend Yield: 0.0058312435\n",
            "Trailing Dividend Rate: 1.0\n",
            "Beta: 1.014\n",
            "Trailing PEG Ratio: 1.3143\n",
            "Forward EPS: 8.95\n",
            "\n",
            "Buy/Sell Recommendation for GOOG :\n",
            "\n",
            "GOOG is a good dividend-paying stock.\n",
            "\n",
            "Final Recommendation for GOOG: SELL (Overvalued based on assets)\n",
            "\n"
          ]
        }
      ]
    },
    {
      "cell_type": "markdown",
      "source": [
        "# Technical Analysis"
      ],
      "metadata": {
        "id": "ZSUbwlngHF03"
      }
    },
    {
      "cell_type": "code",
      "source": [
        "# Technical Analysis\n",
        "print(\"\\nTechnical Analysis :\\n\")\n",
        "history['SMA_50'] = history['Close'].rolling(window=50).mean()\n",
        "history['SMA_200'] = history['Close'].rolling(window=200).mean()\n",
        "history['Daily Return'] = history['Close'].pct_change()\n",
        "\n",
        "# Plot stock price with moving averages\n",
        "plt.figure(figsize=(12,6))\n",
        "plt.plot(history['Close'], label='Stock Price', color='black')\n",
        "plt.plot(history['SMA_50'], label='50-Day SMA', color='blue')\n",
        "plt.plot(history['SMA_200'], label='200-Day SMA', color='red')\n",
        "plt.title(f\"{stock_ticker} Moving Averages\")\n",
        "plt.legend()\n",
        "plt.show()\n",
        "\n",
        "# Check for bullish or bearish trend\n",
        "print(\"\\nConclusion :\\n\")\n",
        "if history['SMA_50'].iloc[-1] > history['SMA_200'].iloc[-1]:\n",
        "    print(f\"Bullish Signal: {stock_ticker} is trending up based on moving averages.\")\n",
        "    technical_analysis = \"Buy\"\n",
        "else:\n",
        "    print(f\"Bearish Signal: {stock_ticker} is trending down based on moving averages.\")\n",
        "    technical_analysis = \"Sell\""
      ],
      "metadata": {
        "colab": {
          "base_uri": "https://localhost:8080/",
          "height": 673
        },
        "id": "3TlU7v29HKAH",
        "outputId": "6c5c8f09-81d3-4696-e1fc-00e69149486e"
      },
      "execution_count": 5,
      "outputs": [
        {
          "output_type": "stream",
          "name": "stdout",
          "text": [
            "\n",
            "Technical Analysis :\n",
            "\n"
          ]
        },
        {
          "output_type": "display_data",
          "data": {
            "text/plain": [
              "<Figure size 1200x600 with 1 Axes>"
            ],
            "image/png": "[encoded data removed]"
          },
          "metadata": {}
        },
        {
          "output_type": "stream",
          "name": "stdout",
          "text": [
            "\n",
            "Conclusion :\n",
            "\n",
            "Bearish Signal: GOOG is trending down based on moving averages.\n"
          ]
        }
      ]
    },
    {
      "cell_type": "markdown",
      "source": [
        "# Linear Regression"
      ],
      "metadata": {
        "id": "4GLBD2jTHKPv"
      }
    },
    {
      "cell_type": "code",
      "source": [
        "#TODO"
      ],
      "metadata": {
        "id": "cU0e5ar_HXUB"
      },
      "execution_count": null,
      "outputs": []
    },
    {
      "cell_type": "markdown",
      "source": [
        "# Logistic Regression Model"
      ],
      "metadata": {
        "id": "rHyyFX-AHX4Q"
      }
    },
    {
      "cell_type": "code",
      "source": [
        "#TODO"
      ],
      "metadata": {
        "id": "ys8b1ndpHazJ"
      },
      "execution_count": null,
      "outputs": []
    },
    {
      "cell_type": "markdown",
      "source": [
        "# Random Forest Regressor & Classifier"
      ],
      "metadata": {
        "id": "DYJiqeaOHbKp"
      }
    },
    {
      "cell_type": "code",
      "source": [
        "#TODO"
      ],
      "metadata": {
        "id": "PPb1LijsHfqa"
      },
      "execution_count": null,
      "outputs": []
    },
    {
      "cell_type": "markdown",
      "source": [
        "# Support Vector Machine (SVM)"
      ],
      "metadata": {
        "id": "sSYLAfWlHf2i"
      }
    },
    {
      "cell_type": "code",
      "source": [
        "#TODO"
      ],
      "metadata": {
        "id": "iSaCsuxwHiAS"
      },
      "execution_count": null,
      "outputs": []
    },
    {
      "cell_type": "markdown",
      "source": [
        "# XGBoost & LightGBM"
      ],
      "metadata": {
        "id": "KpBO76fyHiQq"
      }
    },
    {
      "cell_type": "code",
      "source": [
        "#TODO"
      ],
      "metadata": {
        "id": "Vle6e600Hl9a"
      },
      "execution_count": null,
      "outputs": []
    },
    {
      "cell_type": "markdown",
      "source": [
        "# Artificial Neural Networks (ANN)"
      ],
      "metadata": {
        "id": "w7O2CXDXHmMq"
      }
    },
    {
      "cell_type": "code",
      "source": [
        "#TODO"
      ],
      "metadata": {
        "id": "t-u9AM2lH1yM"
      },
      "execution_count": null,
      "outputs": []
    },
    {
      "cell_type": "markdown",
      "source": [
        "# Recurrent Neural Networks (RNN)"
      ],
      "metadata": {
        "id": "vaz9waPLH2Ac"
      }
    },
    {
      "cell_type": "code",
      "source": [
        "#TODO"
      ],
      "metadata": {
        "id": "BG9941nwH5fc"
      },
      "execution_count": null,
      "outputs": []
    },
    {
      "cell_type": "markdown",
      "source": [
        "# Long Short-Term Memory (LSTM)"
      ],
      "metadata": {
        "id": "kWo0he93H5uE"
      }
    },
    {
      "cell_type": "code",
      "source": [
        "#TODO"
      ],
      "metadata": {
        "id": "ZV4WFAbFH8Kd"
      },
      "execution_count": null,
      "outputs": []
    },
    {
      "cell_type": "markdown",
      "source": [
        "# Gated Recurrent Units (GRU)"
      ],
      "metadata": {
        "id": "AcShZAQEH8Wc"
      }
    },
    {
      "cell_type": "code",
      "source": [
        "#TODO"
      ],
      "metadata": {
        "id": "LKeiaXOrIAPd"
      },
      "execution_count": null,
      "outputs": []
    },
    {
      "cell_type": "markdown",
      "source": [
        "# Transformer Models"
      ],
      "metadata": {
        "id": "gGoMhbVHIAcV"
      }
    },
    {
      "cell_type": "code",
      "source": [
        "#TODO"
      ],
      "metadata": {
        "id": "hB78QJagIEGe"
      },
      "execution_count": null,
      "outputs": []
    },
    {
      "cell_type": "markdown",
      "source": [
        "# ARIMA and ARCH/GARCH"
      ],
      "metadata": {
        "id": "XvXBZtqUIEqd"
      }
    },
    {
      "cell_type": "code",
      "source": [
        "#TODO"
      ],
      "metadata": {
        "id": "CmIPnoV8IQQP"
      },
      "execution_count": null,
      "outputs": []
    },
    {
      "cell_type": "markdown",
      "source": [
        "# SARIMA Model"
      ],
      "metadata": {
        "id": "cp3ZhVLKIQ1H"
      }
    },
    {
      "cell_type": "code",
      "source": [
        "#TODO"
      ],
      "metadata": {
        "id": "VJSJy1UoIUTH"
      },
      "execution_count": null,
      "outputs": []
    },
    {
      "cell_type": "markdown",
      "source": [
        "# Prophet model"
      ],
      "metadata": {
        "id": "LHJreWbgIUhn"
      }
    },
    {
      "cell_type": "code",
      "source": [
        "#TODO"
      ],
      "metadata": {
        "id": "gxapvoTCIYtw"
      },
      "execution_count": null,
      "outputs": []
    },
    {
      "cell_type": "markdown",
      "source": [
        "# Kalman Filter"
      ],
      "metadata": {
        "id": "Pdg6rEQVIY8X"
      }
    },
    {
      "cell_type": "code",
      "source": [
        "#TODO"
      ],
      "metadata": {
        "id": "65mpG1d6IdDQ"
      },
      "execution_count": null,
      "outputs": []
    },
    {
      "cell_type": "markdown",
      "source": [
        "# Deep Q-Network (DQN)"
      ],
      "metadata": {
        "id": "ZRQFGqLmIdPA"
      }
    },
    {
      "cell_type": "code",
      "source": [
        "#TODO"
      ],
      "metadata": {
        "id": "X63n8djSIfXQ"
      },
      "execution_count": null,
      "outputs": []
    },
    {
      "cell_type": "markdown",
      "source": [
        "# Proximal Policy Optimization (PPO)"
      ],
      "metadata": {
        "id": "7B8NU_yOIfiQ"
      }
    },
    {
      "cell_type": "code",
      "source": [
        "#TODO"
      ],
      "metadata": {
        "id": "rHzPtbcOInKZ"
      },
      "execution_count": null,
      "outputs": []
    },
    {
      "cell_type": "markdown",
      "source": [
        "# A2C (Advantage Actor-Critic)"
      ],
      "metadata": {
        "id": "umsbiEVPIndB"
      }
    },
    {
      "cell_type": "code",
      "source": [
        "#TODO"
      ],
      "metadata": {
        "id": "7COB9oWQIqMJ"
      },
      "execution_count": null,
      "outputs": []
    },
    {
      "cell_type": "markdown",
      "source": [
        "# Stacking (Ensemble of ML models)"
      ],
      "metadata": {
        "id": "-SGsacxKIqfR"
      }
    },
    {
      "cell_type": "code",
      "source": [
        "#TODO"
      ],
      "metadata": {
        "id": "1al3PrdAIs9S"
      },
      "execution_count": null,
      "outputs": []
    },
    {
      "cell_type": "markdown",
      "source": [
        "# CNN + LSTM model"
      ],
      "metadata": {
        "id": "lKp0LfBJItLh"
      }
    },
    {
      "cell_type": "code",
      "source": [
        "#TODO"
      ],
      "metadata": {
        "id": "_ciGaok7Ivx6"
      },
      "execution_count": null,
      "outputs": []
    },
    {
      "cell_type": "markdown",
      "source": [
        "# Final Output"
      ],
      "metadata": {
        "id": "Ky1z2IoGIwES"
      }
    },
    {
      "cell_type": "code",
      "source": [
        "#TODO"
      ],
      "metadata": {
        "id": "jF8VpoWyIyuz"
      },
      "execution_count": null,
      "outputs": []
    }
  ]
}