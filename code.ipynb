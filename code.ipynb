{
  "cells": [
    {
      "cell_type": "markdown",
      "metadata": {
        "id": "iGQL3dRQzZOf"
      },
      "source": [
        "# Stock Market Analysis\n",
        "\n",
        "This notebook implementas a list of all freely available models to analysis live stock data and to predict to the price of a particular stock.\n",
        "\n",
        "## This notebook consist of the following Models\n",
        "\n",
        "* ### Traditional Analysis\n",
        " 1. Fundamental Analysis\n",
        " 2. Technical Analysis\n",
        "\n",
        "* ### Machine Learning Models\n",
        " 1. Linear Regression\n",
        " 2. Logistic Regression\n",
        " 3. Random Forest\n",
        " 4. Support Vector Machine (SVM)\n",
        " 5. XGBoost\n",
        " 6. LightGBM\n",
        "\n",
        "* ### Deep Learning Models\n",
        " 1. Artificial Neural Networks (ANN)\n",
        " 2. Recurrent Neural Networks (RNN)\n",
        " 3. Long Short-Term Memory (LSTM)\n",
        " 4. Gated Recurrent Units (GRU)\n",
        " 5. Transformer Models\n",
        "\n",
        "* ### Time Series Forecasting\n",
        " 1. Autoregressive Conditional Heteroskedasticity(ARCH)\n",
        " 2. Generalized Autoregressive Conditional Heteroskedasticity(GARCH)\n",
        " 3. Autoregressive Integrated Moving Average(ARIMA)\n",
        " 4. Seasonal Autoregressive Integrated Moving Average(SARIMA)\n",
        " 5. Prophet model\n",
        " 6. Kalman Filter\n",
        "\n",
        "* ### Reinforcement Learning Models\n",
        " 1. Deep Q-Network (DQN)\n",
        " 2. Proximal Policy Optimization (PPO)\n",
        " 3. A2C (Advantage Actor-Critic)\n",
        " 4. Stacking (Ensemble of ML models)\n",
        " 5. CNN + LSTM model\n",
        "\n",
        "## More Models will be added in the future."
      ]
    },
    {
      "cell_type": "markdown",
      "metadata": {
        "id": "5dfiI4kyGb5D"
      },
      "source": [
        "# Installing Dependencies"
      ]
    },
    {
      "cell_type": "code",
      "execution_count": null,
      "metadata": {
        "id": "kevfmCO1zUNZ"
      },
      "outputs": [],
      "source": [
        "# TODO"
      ]
    },
    {
      "cell_type": "markdown",
      "metadata": {
        "id": "-1t8ce2kGiiz"
      },
      "source": [
        "# Importing Libraries"
      ]
    },
    {
      "cell_type": "code",
      "execution_count": null,
      "metadata": {
        "id": "uz92UpNwGnQM"
      },
      "outputs": [],
      "source": [
        "#TODO"
      ]
    },
    {
      "cell_type": "markdown",
      "metadata": {
        "id": "kHiLIhfFGlnU"
      },
      "source": [
        "# Receive Stock Ticker from User and gather live stock data using online API"
      ]
    },
    {
      "cell_type": "code",
      "execution_count": null,
      "metadata": {
        "id": "CDdJ-D9RGs4E"
      },
      "outputs": [],
      "source": [
        "#TODO"
      ]
    },
    {
      "cell_type": "markdown",
      "metadata": {
        "id": "FTtzSe_HG46-"
      },
      "source": [
        "# Fundamental Analysis"
      ]
    },
    {
      "cell_type": "code",
      "execution_count": null,
      "metadata": {
        "id": "jhIlhplTHDMQ"
      },
      "outputs": [],
      "source": [
        "#TODO"
      ]
    },
    {
      "cell_type": "markdown",
      "metadata": {
        "id": "ZSUbwlngHF03"
      },
      "source": [
        "# Technical Analysis"
      ]
    },
    {
      "cell_type": "code",
      "execution_count": null,
      "metadata": {
        "id": "3TlU7v29HKAH"
      },
      "outputs": [],
      "source": [
        "#TODO"
      ]
    },
    {
      "cell_type": "markdown",
      "metadata": {
        "id": "4GLBD2jTHKPv"
      },
      "source": [
        "# Linear Regression"
      ]
    },
    {
      "cell_type": "code",
      "execution_count": null,
      "metadata": {
        "id": "cU0e5ar_HXUB"
      },
      "outputs": [],
      "source": [
        "#TODO"
      ]
    },
    {
      "cell_type": "markdown",
      "metadata": {
        "id": "rHyyFX-AHX4Q"
      },
      "source": [
        "# Logistic Regression Model"
      ]
    },
    {
      "cell_type": "code",
      "execution_count": null,
      "metadata": {
        "id": "ys8b1ndpHazJ"
      },
      "outputs": [],
      "source": [
        "#TODO"
      ]
    },
    {
      "cell_type": "markdown",
      "metadata": {
        "id": "DYJiqeaOHbKp"
      },
      "source": [
        "# Random Forest Regressor & Classifier"
      ]
    },
    {
      "cell_type": "code",
      "execution_count": null,
      "metadata": {
        "id": "PPb1LijsHfqa"
      },
      "outputs": [],
      "source": [
        "#TODO"
      ]
    },
    {
      "cell_type": "markdown",
      "metadata": {
        "id": "sSYLAfWlHf2i"
      },
      "source": [
        "# Support Vector Machine (SVM)"
      ]
    },
    {
      "cell_type": "code",
      "execution_count": null,
      "metadata": {
        "id": "iSaCsuxwHiAS"
      },
      "outputs": [],
      "source": [
        "#TODO"
      ]
    },
    {
      "cell_type": "markdown",
      "metadata": {
        "id": "KpBO76fyHiQq"
      },
      "source": [
        "# XGBoost & LightGBM"
      ]
    },
    {
      "cell_type": "code",
      "execution_count": null,
      "metadata": {
        "id": "Vle6e600Hl9a"
      },
      "outputs": [],
      "source": [
        "#TODO"
      ]
    },
    {
      "cell_type": "markdown",
      "metadata": {
        "id": "w7O2CXDXHmMq"
      },
      "source": [
        "# Artificial Neural Networks (ANN)"
      ]
    },
    {
      "cell_type": "code",
      "execution_count": null,
      "metadata": {
        "id": "t-u9AM2lH1yM"
      },
      "outputs": [],
      "source": [
        "#TODO"
      ]
    },
    {
      "cell_type": "markdown",
      "metadata": {
        "id": "vaz9waPLH2Ac"
      },
      "source": [
        "# Recurrent Neural Networks (RNN)"
      ]
    },
    {
      "cell_type": "code",
      "execution_count": null,
      "metadata": {
        "id": "BG9941nwH5fc"
      },
      "outputs": [],
      "source": [
        "#TODO"
      ]
    },
    {
      "cell_type": "markdown",
      "metadata": {
        "id": "kWo0he93H5uE"
      },
      "source": [
        "# Long Short-Term Memory (LSTM)"
      ]
    },
    {
      "cell_type": "code",
      "execution_count": null,
      "metadata": {
        "id": "ZV4WFAbFH8Kd"
      },
      "outputs": [],
      "source": [
        "#TODO"
      ]
    },
    {
      "cell_type": "markdown",
      "metadata": {
        "id": "AcShZAQEH8Wc"
      },
      "source": [
        "# Gated Recurrent Units (GRU)"
      ]
    },
    {
      "cell_type": "code",
      "execution_count": null,
      "metadata": {
        "id": "LKeiaXOrIAPd"
      },
      "outputs": [],
      "source": [
        "#TODO"
      ]
    },
    {
      "cell_type": "markdown",
      "metadata": {
        "id": "gGoMhbVHIAcV"
      },
      "source": [
        "# Transformer Models"
      ]
    },
    {
      "cell_type": "code",
      "execution_count": null,
      "metadata": {
        "id": "hB78QJagIEGe"
      },
      "outputs": [],
      "source": [
        "#TODO"
      ]
    },
    {
      "cell_type": "markdown",
      "metadata": {
        "id": "XvXBZtqUIEqd"
      },
      "source": [
        "# ARIMA and ARCH/GARCH"
      ]
    },
    {
      "cell_type": "code",
      "execution_count": null,
      "metadata": {
        "id": "CmIPnoV8IQQP"
      },
      "outputs": [],
      "source": [
        "#TODO"
      ]
    },
    {
      "cell_type": "markdown",
      "metadata": {
        "id": "cp3ZhVLKIQ1H"
      },
      "source": [
        "# SARIMA Model"
      ]
    },
    {
      "cell_type": "code",
      "execution_count": null,
      "metadata": {
        "id": "VJSJy1UoIUTH"
      },
      "outputs": [],
      "source": [
        "#TODO"
      ]
    },
    {
      "cell_type": "markdown",
      "metadata": {
        "id": "LHJreWbgIUhn"
      },
      "source": [
        "# Prophet model"
      ]
    },
    {
      "cell_type": "code",
      "execution_count": null,
      "metadata": {
        "id": "gxapvoTCIYtw"
      },
      "outputs": [],
      "source": [
        "#TODO"
      ]
    },
    {
      "cell_type": "markdown",
      "metadata": {
        "id": "Pdg6rEQVIY8X"
      },
      "source": [
        "# Kalman Filter"
      ]
    },
    {
      "cell_type": "code",
      "execution_count": null,
      "metadata": {
        "id": "65mpG1d6IdDQ"
      },
      "outputs": [],
      "source": [
        "#TODO"
      ]
    },
    {
      "cell_type": "markdown",
      "metadata": {
        "id": "ZRQFGqLmIdPA"
      },
      "source": [
        "# Deep Q-Network (DQN)"
      ]
    },
    {
      "cell_type": "code",
      "execution_count": null,
      "metadata": {
        "id": "X63n8djSIfXQ"
      },
      "outputs": [],
      "source": [
        "#TODO"
      ]
    },
    {
      "cell_type": "markdown",
      "metadata": {
        "id": "7B8NU_yOIfiQ"
      },
      "source": [
        "# Proximal Policy Optimization (PPO)"
      ]
    },
    {
      "cell_type": "code",
      "execution_count": null,
      "metadata": {
        "id": "rHzPtbcOInKZ"
      },
      "outputs": [],
      "source": [
        "#TODO"
      ]
    },
    {
      "cell_type": "markdown",
      "metadata": {
        "id": "umsbiEVPIndB"
      },
      "source": [
        "# A2C (Advantage Actor-Critic)"
      ]
    },
    {
      "cell_type": "code",
      "execution_count": null,
      "metadata": {
        "id": "7COB9oWQIqMJ"
      },
      "outputs": [],
      "source": [
        "#TODO"
      ]
    },
    {
      "cell_type": "markdown",
      "metadata": {
        "id": "-SGsacxKIqfR"
      },
      "source": [
        "# Stacking (Ensemble of ML models)"
      ]
    },
    {
      "cell_type": "code",
      "execution_count": null,
      "metadata": {
        "id": "1al3PrdAIs9S"
      },
      "outputs": [],
      "source": [
        "#TODO"
      ]
    },
    {
      "cell_type": "markdown",
      "metadata": {
        "id": "lKp0LfBJItLh"
      },
      "source": [
        "# CNN + LSTM model"
      ]
    },
    {
      "cell_type": "code",
      "execution_count": null,
      "metadata": {
        "id": "_ciGaok7Ivx6"
      },
      "outputs": [],
      "source": [
        "#TODO"
      ]
    },
    {
      "cell_type": "markdown",
      "metadata": {
        "id": "Ky1z2IoGIwES"
      },
      "source": [
        "# Final Output"
      ]
    },
    {
      "cell_type": "code",
      "execution_count": null,
      "metadata": {
        "id": "jF8VpoWyIyuz"
      },
      "outputs": [],
      "source": [
        "#TODO"
      ]
    }
  ],
  "metadata": {
    "colab": {
      "provenance": []
    },
    "kernelspec": {
      "display_name": "Python 3",
      "name": "python3"
    },
    "language_info": {
      "name": "python"
    }
  },
  "nbformat": 4,
  "nbformat_minor": 0
}
